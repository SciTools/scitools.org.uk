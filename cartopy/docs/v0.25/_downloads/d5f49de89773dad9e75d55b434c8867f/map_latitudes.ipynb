{
  "cells": [
    {
      "cell_type": "markdown",
      "metadata": {},
      "source": [
        "\n# Aligning Cartopy and Matplotlib axes\n\nSometimes it is useful to line up a standard Matplotlib axes with a Cartopy map, for\nexample when plotting zonal mean data next to a global contour plot.  This example\ndemonstrates one way to do that for projections where latitude lines are horizontal.\n"
      ]
    },
    {
      "cell_type": "code",
      "execution_count": null,
      "metadata": {
        "collapsed": false
      },
      "outputs": [],
      "source": [
        "# sphinx_gallery_multi_image = \"single\"\n\nimport matplotlib.pyplot as plt\nimport numpy as np\n\nimport cartopy.crs as ccrs\n\n\nPC_PROJ = ccrs.PlateCarree()\n\ndef map_and_latitudes(map_proj):\n    \"\"\"\n    Create a map with the given projection, together with a rectangular axes\n    whose y-axis matches the map.\n    \"\"\"\n\n    fig = plt.figure(figsize=(12, 5), layout='compressed')\n\n    # Create the map.\n    map_ax = fig.add_subplot(projection=map_proj)\n    map_ax.set_global()\n    gl = map_ax.gridlines(draw_labels=True)\n    map_ax.coastlines()\n\n    # Add the rectangular axes to the right of the map.\n    rect_ax = map_ax.inset_axes([1.1, 0, 0.3, 1])\n\n    # Set up scaling for the rectangular axes latitudes.  This part is\n    # necessary for projections with uneven latitude spacing, such as Mercator,\n    # but can be skipped for PlateCarree for example.\n    # Create functions to map between latitude and the projection's y values.\n    # Assume these are not x-dependent so we can just set x/longitude to zero.\n\n    def to_map(lat):\n        \"\"\"Transform latitudes to projection's y-values.\"\"\"\n        dummy_lon = np.zeros_like(lat)\n        projected = map_proj.transform_points(PC_PROJ, dummy_lon, lat)\n        return np.take(projected, 1, axis=-1)\n\n    def from_map(y):\n        \"\"\"Transform projection's y-values to latitude.\"\"\"\n        dummy_x = np.zeros_like(y)\n        projected = PC_PROJ.transform_points(map_proj, dummy_x, y)\n        return np.take(projected, 1, axis=-1)\n\n    # Use these function to define the y-scale on the rectangular axes.\n    rect_ax.set_yscale('function', functions=(to_map, from_map))\n    # Convert the map's y-limits to latitudes and set the y-limits.\n    rect_ax.set_ylim(from_map(np.array(map_ax.get_ylim())))\n\n    # y-axis visual choices.\n    rect_ax.grid(axis='y')\n    rect_ax.yaxis.tick_right()\n    rect_ax.yaxis.set_major_locator(gl.ylocator)\n    rect_ax.yaxis.set_major_formatter(gl.yformatter)\n\n    # Plot some dummy data.\n    y = np.linspace(-90, 90, 21)\n    y_rad = np.deg2rad(y)\n    rect_ax.plot(np.sin(y_rad), y, label='sine')\n    rect_ax.plot(np.cos(y_rad), y, label='cosine')\n    rect_ax.legend()\n\n    # Add the projection name as the title.\n    fig.suptitle(type(map_proj).__name__)\n\n\nif __name__ == '__main__':\n    for map_proj in [ccrs.PlateCarree(), ccrs.Mercator(), ccrs.Robinson()]:\n        map_and_latitudes(map_proj)\n\n    plt.show()"
      ]
    }
  ],
  "metadata": {
    "kernelspec": {
      "display_name": "Python 3",
      "language": "python",
      "name": "python3"
    },
    "language_info": {
      "codemirror_mode": {
        "name": "ipython",
        "version": 3
      },
      "file_extension": ".py",
      "mimetype": "text/x-python",
      "name": "python",
      "nbconvert_exporter": "python",
      "pygments_lexer": "ipython3",
      "version": "3.11.13"
    }
  },
  "nbformat": 4,
  "nbformat_minor": 0
}