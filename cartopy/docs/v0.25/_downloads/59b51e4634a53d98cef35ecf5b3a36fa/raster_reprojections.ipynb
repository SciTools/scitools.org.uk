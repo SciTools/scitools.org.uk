{
  "cells": [
    {
      "cell_type": "markdown",
      "metadata": {},
      "source": [
        "\n# Raster reprojections\n\nWhen plotting raster data onto a map with `imshow`, we need to first set the\nextent of the map so the reprojection is done correctly.\n\nIn this example, we have some raster data stored as a numpy array that is\nreferenced to a rectangular coordinate system (PlateCarree). Cartopy reprojects the\ndata to match the map's coordinate system based on the currently set map limits.\nThis means that the map extent/boundary must be set *before* `imshow` is called.\n"
      ]
    },
    {
      "cell_type": "code",
      "execution_count": null,
      "metadata": {
        "collapsed": false
      },
      "outputs": [],
      "source": [
        "from matplotlib.patches import Rectangle\nimport matplotlib.pyplot as plt\nimport numpy as np\n\nimport cartopy.crs as ccrs\nimport cartopy.feature as cf\n\n\ndef main():\n    # Generate raster data as a numpy array\n    img = np.linspace(0, 1, 10_000).reshape(100, 100)\n\n    # Define the origin and extent of the image following matplotlib's\n    # convention `(left, right, bottom, top)`. These are referenced to\n    # a rectangular coordinate system.\n    img_origin = \"lower\"\n    img_extent = (-87.6, -86.4, 41.4, 42.0)\n    img_proj = ccrs.PlateCarree()\n\n    imshow_kwargs = dict(\n        extent=img_extent,\n        origin=img_origin,\n        transform=img_proj,\n        cmap=\"spring\",\n    )\n\n    # Define extent and projection for the map\n    map_extent = (-88.1, -86.1, 41.2, 42.2)\n    map_proj = ccrs.RotatedPole(pole_longitude=120.0, pole_latitude=70.0)\n\n    fig, axs = plt.subplots(\n        nrows=1,\n        ncols=2,\n        figsize=(12, 5),\n        subplot_kw={\"projection\": map_proj},\n        sharex=True,\n        sharey=True,\n        layout=\"constrained\",\n    )\n\n    # Adding the raster *before* setting the map extent\n    ax = axs[0]\n    ax.set_title(\"\\u2717 Adding the raster\\nBEFORE setting the map extent\")\n\n    ax.imshow(img, **imshow_kwargs)\n    ax.set_extent(map_extent, crs=img_proj)\n\n    # Adding the raster *after* setting the map extent\n    ax = axs[1]\n    ax.set_title(\"\\u2713 Adding the raster\\nAFTER setting the map extent\")\n\n    ax.set_extent(map_extent, crs=img_proj)\n    ax.imshow(img, **imshow_kwargs)\n\n    for ax in axs:\n        # Add other map features\n        ax.add_feature(cf.LAKES, alpha=0.6)\n        ax.add_feature(cf.STATES)\n\n        # Highlight raster boundaries\n        xy = (img_extent[0], img_extent[2])\n        width = img_extent[1] - img_extent[0]\n        height = img_extent[3] - img_extent[2]\n        ax.add_patch(\n            Rectangle(\n                xy,\n                width,\n                height,\n                transform=img_proj,\n                edgecolor=\"black\",\n                facecolor=\"None\",\n                linewidth=3,\n                label=\"Raster data bounds\",\n            )\n        )\n\n        ax.legend()\n        ax.gridlines(draw_labels=True, x_inline=False, dms=True)\n\n    plt.show()\n\n\nif __name__ == \"__main__\":\n    main()"
      ]
    }
  ],
  "metadata": {
    "kernelspec": {
      "display_name": "Python 3",
      "language": "python",
      "name": "python3"
    },
    "language_info": {
      "codemirror_mode": {
        "name": "ipython",
        "version": 3
      },
      "file_extension": ".py",
      "mimetype": "text/x-python",
      "name": "python",
      "nbconvert_exporter": "python",
      "pygments_lexer": "ipython3",
      "version": "3.11.13"
    }
  },
  "nbformat": 4,
  "nbformat_minor": 0
}