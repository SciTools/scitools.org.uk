{
  "cells": [
    {
      "cell_type": "markdown",
      "metadata": {},
      "source": [
        "\n# Associating data with geometries\n\nThis example shows how to colour geometries based on a data array.  This\nfunctionality is available since Cartopy 0.23.\n"
      ]
    },
    {
      "cell_type": "code",
      "execution_count": null,
      "metadata": {
        "collapsed": false
      },
      "outputs": [],
      "source": [
        "import matplotlib.colors as mcolors\nimport matplotlib.pyplot as plt\n\nimport cartopy.crs as ccrs\nimport cartopy.io.shapereader as shpreader\n\n\ndef main():\n    # Load Natural Earth's country shapefiles.\n    shpfilename = shpreader.natural_earth(resolution='110m',\n                                          category='cultural',\n                                          name='admin_0_countries')\n    reader = shpreader.Reader(shpfilename)\n    countries = reader.records()\n\n    # Get hold of the geometry and population estimate from each country's record.\n    geometries = []\n    population_estimates = []\n\n    for country in countries:\n        geometries.append(country.geometry)\n        population_estimates.append(country.attributes['POP_EST'])\n\n    # Set up a figure and an axes with the Eckert VI projection.\n    fig = plt.figure()\n    ax = fig.add_subplot(projection=ccrs.EckertVI())\n\n    # Plot the geometries coloured according to population estimate.\n    art = ax.add_geometries(geometries, crs=ccrs.PlateCarree(),\n                            array=population_estimates, cmap='YlGnBu',\n                            norm=mcolors.LogNorm(vmin=1e6))\n    cbar = fig.colorbar(art, orientation='horizontal', extend='min')\n    cbar.set_label('Number of people')\n    fig.suptitle('Country Population Estimates', fontsize='x-large')\n\n    plt.show()\n\n\nif __name__ == '__main__':\n    main()"
      ]
    }
  ],
  "metadata": {
    "kernelspec": {
      "display_name": "Python 3",
      "language": "python",
      "name": "python3"
    },
    "language_info": {
      "codemirror_mode": {
        "name": "ipython",
        "version": 3
      },
      "file_extension": ".py",
      "mimetype": "text/x-python",
      "name": "python",
      "nbconvert_exporter": "python",
      "pygments_lexer": "ipython3",
      "version": "3.11.8"
    }
  },
  "nbformat": 4,
  "nbformat_minor": 0
}