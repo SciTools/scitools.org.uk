{
  "cells": [
    {
      "cell_type": "markdown",
      "metadata": {},
      "source": [
        "\n# Ocean bathymetry\n\nProduces a map of ocean seafloor depth, demonstrating the\n:class:`cartopy.io.shapereader.Reader` interface. The data is a series\nof 10m resolution nested polygons obtained from Natural Earth, derived\nfrom the NASA SRTM Plus product. Since the dataset contains a zipfile with\nmultiple shapefiles representing different depths, the example demonstrates\nmanually downloading and reading them with the general shapereader interface,\ninstead of the specialized `cartopy.feature.NaturalEarthFeature` interface.\n"
      ]
    },
    {
      "cell_type": "code",
      "execution_count": null,
      "metadata": {
        "collapsed": false
      },
      "outputs": [],
      "source": [
        "from glob import glob\n\nimport matplotlib\nimport matplotlib.pyplot as plt\nimport numpy as np\n\nimport cartopy.crs as ccrs\nimport cartopy.feature as cfeature\nimport cartopy.io.shapereader as shpreader\n\n\ndef load_bathymetry(zip_file_url):\n    \"\"\"Read zip file from Natural Earth containing bathymetry shapefiles\"\"\"\n    # Download and extract shapefiles\n    import io\n    import zipfile\n\n    import requests\n    r = requests.get(zip_file_url)\n    z = zipfile.ZipFile(io.BytesIO(r.content))\n    z.extractall(\"ne_10m_bathymetry_all/\")\n\n    # Read shapefiles, sorted by depth\n    shp_dict = {}\n    files = glob('ne_10m_bathymetry_all/*.shp')\n    assert len(files) > 0\n    files.sort()\n    depths = []\n    for f in files:\n        depth = '-' + f.split('_')[-1].split('.')[0]  # depth from file name\n        depths.append(depth)\n        bbox = (90, -15, 160, 60)  # (x0, y0, x1, y1)\n        nei = shpreader.Reader(f, bbox=bbox)\n        shp_dict[depth] = nei\n    depths = np.array(depths)[::-1]  # sort from surface to bottom\n    return depths, shp_dict\n\n\nif __name__ == \"__main__\":\n    # Load data (14.8 MB file)\n    depths_str, shp_dict = load_bathymetry(\n        'https://naturalearth.s3.amazonaws.com/' +\n        '10m_physical/ne_10m_bathymetry_all.zip')\n\n    # Construct a discrete colormap with colors corresponding to each depth\n    depths = depths_str.astype(int)\n    N = len(depths)\n    nudge = 0.01  # shift bin edge slightly to include data\n    boundaries = [min(depths)] + sorted(depths+nudge)  # low to high\n    norm = matplotlib.colors.BoundaryNorm(boundaries, N)\n    blues_cm = matplotlib.colormaps['Blues_r'].resampled(N)\n    colors_depths = blues_cm(norm(depths))\n\n    # Set up plot\n    subplot_kw = {'projection': ccrs.LambertCylindrical()}\n    fig, ax = plt.subplots(subplot_kw=subplot_kw, figsize=(9, 7))\n    ax.set_extent([90, 160, -15, 60], crs=ccrs.PlateCarree())  # x0, x1, y0, y1\n\n    # Iterate and plot feature for each depth level\n    for i, depth_str in enumerate(depths_str):\n        ax.add_geometries(shp_dict[depth_str].geometries(),\n                          crs=ccrs.PlateCarree(),\n                          color=colors_depths[i])\n\n    # Add standard features\n    ax.add_feature(cfeature.LAND, color='grey')\n    ax.coastlines(lw=1, resolution='110m')\n    ax.gridlines(draw_labels=False)\n    ax.set_position([0.03, 0.05, 0.8, 0.9])\n\n    # Add custom colorbar\n    axi = fig.add_axes([0.85, 0.1, 0.025, 0.8])\n    ax.add_feature(cfeature.BORDERS, linestyle=':')\n    sm = plt.cm.ScalarMappable(cmap=blues_cm, norm=norm)\n    fig.colorbar(mappable=sm,\n                 cax=axi,\n                 spacing='proportional',\n                 extend='min',\n                 ticks=depths,\n                 label='Depth (m)')\n\n    # Convert vector bathymetries to raster (saves a lot of disk space)\n    # while leaving labels as vectors\n    ax.set_rasterized(True)"
      ]
    }
  ],
  "metadata": {
    "kernelspec": {
      "display_name": "Python 3",
      "language": "python",
      "name": "python3"
    },
    "language_info": {
      "codemirror_mode": {
        "name": "ipython",
        "version": 3
      },
      "file_extension": ".py",
      "mimetype": "text/x-python",
      "name": "python",
      "nbconvert_exporter": "python",
      "pygments_lexer": "ipython3",
      "version": "3.11.10"
    }
  },
  "nbformat": 4,
  "nbformat_minor": 0
}