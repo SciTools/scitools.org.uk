{
  "cells": [
    {
      "cell_type": "code",
      "execution_count": null,
      "metadata": {
        "collapsed": false
      },
      "outputs": [],
      "source": [
        "%matplotlib inline"
      ]
    },
    {
      "cell_type": "markdown",
      "metadata": {},
      "source": [
        "\nGlobal Map\n----------\n\nAn example of a simple map that compares Geodetic and Plate Carree lines\nbetween two locations.\n\n\n"
      ]
    },
    {
      "cell_type": "code",
      "execution_count": null,
      "metadata": {
        "collapsed": false
      },
      "outputs": [],
      "source": [
        "import matplotlib.pyplot as plt\n\nimport cartopy.crs as ccrs\n\n\ndef main():\n    fig = plt.figure(figsize=(10, 5))\n    ax = fig.add_subplot(1, 1, 1, projection=ccrs.Robinson())\n\n    # make the map global rather than have it zoom in to\n    # the extents of any plotted data\n    ax.set_global()\n\n    ax.stock_img()\n    ax.coastlines()\n\n    ax.plot(-0.08, 51.53, 'o', transform=ccrs.PlateCarree())\n    ax.plot([-0.08, 132], [51.53, 43.17], transform=ccrs.PlateCarree())\n    ax.plot([-0.08, 132], [51.53, 43.17], transform=ccrs.Geodetic())\n\n    plt.show()\n\n\nif __name__ == '__main__':\n    main()"
      ]
    }
  ],
  "metadata": {
    "kernelspec": {
      "display_name": "Python 3",
      "language": "python",
      "name": "python3"
    },
    "language_info": {
      "codemirror_mode": {
        "name": "ipython",
        "version": 3
      },
      "file_extension": ".py",
      "mimetype": "text/x-python",
      "name": "python",
      "nbconvert_exporter": "python",
      "pygments_lexer": "ipython3",
      "version": "3.6.6"
    }
  },
  "nbformat": 4,
  "nbformat_minor": 0
}