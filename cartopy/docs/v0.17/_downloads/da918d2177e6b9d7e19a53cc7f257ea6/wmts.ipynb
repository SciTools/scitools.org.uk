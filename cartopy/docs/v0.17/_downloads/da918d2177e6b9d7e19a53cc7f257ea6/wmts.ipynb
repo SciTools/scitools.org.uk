{
  "cells": [
    {
      "cell_type": "code",
      "execution_count": null,
      "metadata": {
        "collapsed": false
      },
      "outputs": [],
      "source": [
        "%matplotlib inline"
      ]
    },
    {
      "cell_type": "markdown",
      "metadata": {},
      "source": [
        "\nInteractive WMTS (Web Map Tile Service)\n---------------------------------------\n\nThis example demonstrates the interactive pan and zoom capability\nsupported by an OGC web services Web Map Tile Service (WMTS) aware axes.\n\nThe example WMTS layer is a single composite of data sampled over nine days\nin April 2012 and thirteen days in October 2012 showing the Earth at night.\nIt does not vary over time.\n\nThe imagery was collected by the Suomi National Polar-orbiting Partnership\n(Suomi NPP) weather satellite operated by the United States National Oceanic\nand Atmospheric Administration (NOAA).\n\n\n"
      ]
    },
    {
      "cell_type": "code",
      "execution_count": null,
      "metadata": {
        "collapsed": false
      },
      "outputs": [],
      "source": [
        "import matplotlib.pyplot as plt\nimport cartopy.crs as ccrs\n\n\ndef main():\n    url = 'https://map1c.vis.earthdata.nasa.gov/wmts-geo/wmts.cgi'\n    layer = 'VIIRS_CityLights_2012'\n\n    fig = plt.figure()\n    ax = fig.add_subplot(1, 1, 1, projection=ccrs.PlateCarree())\n    ax.add_wmts(url, layer)\n    ax.set_extent([-15, 25, 35, 60], crs=ccrs.PlateCarree())\n\n    ax.set_title('Suomi NPP Earth at night April/October 2012')\n    plt.show()\n\n\nif __name__ == '__main__':\n    main()"
      ]
    }
  ],
  "metadata": {
    "kernelspec": {
      "display_name": "Python 3",
      "language": "python",
      "name": "python3"
    },
    "language_info": {
      "codemirror_mode": {
        "name": "ipython",
        "version": 3
      },
      "file_extension": ".py",
      "mimetype": "text/x-python",
      "name": "python",
      "nbconvert_exporter": "python",
      "pygments_lexer": "ipython3",
      "version": "3.6.6"
    }
  },
  "nbformat": 4,
  "nbformat_minor": 0
}