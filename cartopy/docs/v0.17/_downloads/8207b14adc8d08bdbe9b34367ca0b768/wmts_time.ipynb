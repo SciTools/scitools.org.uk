{
  "cells": [
    {
      "cell_type": "code",
      "execution_count": null,
      "metadata": {
        "collapsed": false
      },
      "outputs": [],
      "source": [
        "%matplotlib inline"
      ]
    },
    {
      "cell_type": "markdown",
      "metadata": {},
      "source": [
        "\nWeb Map Tile Service time dimension demonstration\n-------------------------------------------------\n\nThis example further demonstrates WMTS support within cartopy. Optional\nkeyword arguments can be supplied to the OGC WMTS 'gettile' method. This\nallows for the specification of the 'time' dimension for a WMTS layer\nwhich supports it.\n\nThe example shows satellite imagery retrieved from NASA's Global Imagery\nBrowse Services for 5th Feb 2016. A true color MODIS image is shown on\nthe left, with the MODIS false color 'snow RGB' shown on the right.\n\n\n"
      ]
    },
    {
      "cell_type": "code",
      "execution_count": null,
      "metadata": {
        "collapsed": false
      },
      "outputs": [],
      "source": [
        "import matplotlib.pyplot as plt\nimport matplotlib.patheffects as PathEffects\nfrom owslib.wmts import WebMapTileService\n\nimport cartopy.crs as ccrs\n\n\ndef main():\n    # URL of NASA GIBS\n    URL = 'http://gibs.earthdata.nasa.gov/wmts/epsg4326/best/wmts.cgi'\n    wmts = WebMapTileService(URL)\n\n    # Layers for MODIS true color and snow RGB\n    layers = ['MODIS_Terra_SurfaceReflectance_Bands143',\n              'MODIS_Terra_CorrectedReflectance_Bands367']\n\n    date_str = '2016-02-05'\n\n    # Plot setup\n    plot_CRS = ccrs.Mercator()\n    geodetic_CRS = ccrs.Geodetic()\n    x0, y0 = plot_CRS.transform_point(4.6, 43.1, geodetic_CRS)\n    x1, y1 = plot_CRS.transform_point(11.0, 47.4, geodetic_CRS)\n    ysize = 8\n    xsize = 2 * ysize * (x1 - x0) / (y1 - y0)\n    fig = plt.figure(figsize=(xsize, ysize), dpi=100)\n\n    for layer, offset in zip(layers, [0, 0.5]):\n        ax = fig.add_axes([offset, 0, 0.5, 1], projection=plot_CRS)\n        ax.set_xlim((x0, x1))\n        ax.set_ylim((y0, y1))\n        ax.add_wmts(wmts, layer, wmts_kwargs={'time': date_str})\n        txt = ax.text(4.7, 43.2, wmts[layer].title, fontsize=18, color='wheat',\n                      transform=geodetic_CRS)\n        txt.set_path_effects([PathEffects.withStroke(linewidth=5,\n                                                     foreground='black')])\n    plt.show()\n\n\nif __name__ == '__main__':\n    main()"
      ]
    }
  ],
  "metadata": {
    "kernelspec": {
      "display_name": "Python 3",
      "language": "python",
      "name": "python3"
    },
    "language_info": {
      "codemirror_mode": {
        "name": "ipython",
        "version": 3
      },
      "file_extension": ".py",
      "mimetype": "text/x-python",
      "name": "python",
      "nbconvert_exporter": "python",
      "pygments_lexer": "ipython3",
      "version": "3.6.6"
    }
  },
  "nbformat": 4,
  "nbformat_minor": 0
}