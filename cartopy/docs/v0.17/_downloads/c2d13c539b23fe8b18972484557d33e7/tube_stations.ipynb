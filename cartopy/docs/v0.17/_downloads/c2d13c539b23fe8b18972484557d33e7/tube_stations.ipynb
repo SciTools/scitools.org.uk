{
  "cells": [
    {
      "cell_type": "code",
      "execution_count": null,
      "metadata": {
        "collapsed": false
      },
      "outputs": [],
      "source": [
        "%matplotlib inline"
      ]
    },
    {
      "cell_type": "markdown",
      "metadata": {},
      "source": [
        "\nTube Stations\n-------------\n\nProduces a map showing London Underground station locations with high\nresolution background imagery provided by OpenStreetMap.\n\n\n"
      ]
    },
    {
      "cell_type": "code",
      "execution_count": null,
      "metadata": {
        "collapsed": false
      },
      "outputs": [],
      "source": [
        "from matplotlib.path import Path\nimport matplotlib.pyplot as plt\nimport numpy as np\n\nimport cartopy.crs as ccrs\nfrom cartopy.io.img_tiles import OSM\n\n\ndef tube_locations():\n    \"\"\"\n    Return an (n, 2) array of selected London Tube locations in Ordnance\n    Survey GB coordinates.\n\n    Source: http://www.doogal.co.uk/london_stations.php\n\n    \"\"\"\n    return np.array([[531738., 180890.], [532379., 179734.],\n                     [531096., 181642.], [530234., 180492.],\n                     [531688., 181150.], [530242., 180982.],\n                     [531940., 179144.], [530406., 180380.],\n                     [529012., 180283.], [530553., 181488.],\n                     [531165., 179489.], [529987., 180812.],\n                     [532347., 180962.], [529102., 181227.],\n                     [529612., 180625.], [531566., 180025.],\n                     [529629., 179503.], [532105., 181261.],\n                     [530995., 180810.], [529774., 181354.],\n                     [528941., 179131.], [531050., 179933.],\n                     [530240., 179718.]])\n\n\ndef main():\n    imagery = OSM()\n\n    fig = plt.figure()\n    ax = fig.add_subplot(1, 1, 1, projection=imagery.crs)\n    ax.set_extent([-0.14, -0.1, 51.495, 51.515], ccrs.PlateCarree())\n\n    # Construct concentric circles and a rectangle,\n    # suitable for a London Underground logo.\n    theta = np.linspace(0, 2 * np.pi, 100)\n    circle_verts = np.vstack([np.sin(theta), np.cos(theta)]).T\n    concentric_circle = Path.make_compound_path(Path(circle_verts[::-1]),\n                                                Path(circle_verts * 0.6))\n\n    rectangle = Path([[-1.1, -0.2], [1, -0.2], [1, 0.3], [-1.1, 0.3]])\n\n    # Add the imagery to the map.\n    ax.add_image(imagery, 14)\n\n    # Plot the locations twice, first with the red concentric circles,\n    # then with the blue rectangle.\n    xs, ys = tube_locations().T\n    ax.plot(xs, ys, transform=ccrs.OSGB(),\n            marker=concentric_circle, color='red', markersize=9, linestyle='')\n    ax.plot(xs, ys, transform=ccrs.OSGB(),\n            marker=rectangle, color='blue', markersize=11, linestyle='')\n\n    ax.set_title('London underground locations')\n    plt.show()\n\n\nif __name__ == '__main__':\n    main()"
      ]
    }
  ],
  "metadata": {
    "kernelspec": {
      "display_name": "Python 3",
      "language": "python",
      "name": "python3"
    },
    "language_info": {
      "codemirror_mode": {
        "name": "ipython",
        "version": 3
      },
      "file_extension": ".py",
      "mimetype": "text/x-python",
      "name": "python",
      "nbconvert_exporter": "python",
      "pygments_lexer": "ipython3",
      "version": "3.6.6"
    }
  },
  "nbformat": 4,
  "nbformat_minor": 0
}