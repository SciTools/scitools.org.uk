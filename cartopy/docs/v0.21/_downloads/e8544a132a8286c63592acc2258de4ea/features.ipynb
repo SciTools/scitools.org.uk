{
  "cells": [
    {
      "cell_type": "code",
      "execution_count": null,
      "metadata": {
        "collapsed": false
      },
      "outputs": [],
      "source": [
        "%matplotlib inline"
      ]
    },
    {
      "cell_type": "markdown",
      "metadata": {},
      "source": [
        "\n# Features\n\nA demonstration of some of the built-in Natural Earth features found\nin cartopy.\n"
      ]
    },
    {
      "cell_type": "code",
      "execution_count": null,
      "metadata": {
        "collapsed": false
      },
      "outputs": [],
      "source": [
        "import cartopy.crs as ccrs\nimport cartopy.feature as cfeature\nimport matplotlib.pyplot as plt\n\n\ndef main():\n    fig = plt.figure()\n    ax = fig.add_subplot(1, 1, 1, projection=ccrs.PlateCarree())\n    ax.set_extent([-20, 60, -40, 45], crs=ccrs.PlateCarree())\n\n    ax.add_feature(cfeature.LAND)\n    ax.add_feature(cfeature.OCEAN)\n    ax.add_feature(cfeature.COASTLINE)\n    ax.add_feature(cfeature.BORDERS, linestyle=':')\n    ax.add_feature(cfeature.LAKES, alpha=0.5)\n    ax.add_feature(cfeature.RIVERS)\n\n    plt.show()\n\n\nif __name__ == '__main__':\n    main()"
      ]
    }
  ],
  "metadata": {
    "kernelspec": {
      "display_name": "Python 3",
      "language": "python",
      "name": "python3"
    },
    "language_info": {
      "codemirror_mode": {
        "name": "ipython",
        "version": 3
      },
      "file_extension": ".py",
      "mimetype": "text/x-python",
      "name": "python",
      "nbconvert_exporter": "python",
      "pygments_lexer": "ipython3",
      "version": "3.10.6"
    }
  },
  "nbformat": 4,
  "nbformat_minor": 0
}