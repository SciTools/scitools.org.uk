{
  "cells": [
    {
      "cell_type": "code",
      "execution_count": null,
      "metadata": {
        "collapsed": false
      },
      "outputs": [],
      "source": [
        "%matplotlib inline"
      ]
    },
    {
      "cell_type": "markdown",
      "metadata": {},
      "source": [
        "\n# Displaying WMTS tiled map data on an arbitrary projection\n\nThis example displays imagery from a web map tile service on two different\nprojections, one of which is not provided by the service.\n\nThis result can also be interactively panned and zoomed.\n\nThe example WMTS layer is a single composite of data sampled over nine days\nin April 2012 and thirteen days in October 2012 showing the Earth at night.\nIt does not vary over time.\n\nThe imagery was collected by the Suomi National Polar-orbiting Partnership\n(Suomi NPP) weather satellite operated by the United States National Oceanic\nand Atmospheric Administration (NOAA).\n"
      ]
    },
    {
      "cell_type": "code",
      "execution_count": null,
      "metadata": {
        "collapsed": false
      },
      "outputs": [],
      "source": [
        "import matplotlib.pyplot as plt\nimport cartopy.crs as ccrs\n\n\ndef plot_city_lights():\n    # Define resource for the NASA night-time illumination data.\n    base_uri = 'https://map1c.vis.earthdata.nasa.gov/wmts-geo/wmts.cgi'\n    layer_name = 'VIIRS_CityLights_2012'\n\n    # Create a Cartopy crs for plain and rotated lat-lon projections.\n    plain_crs = ccrs.PlateCarree()\n    rotated_crs = ccrs.RotatedPole(pole_longitude=120.0, pole_latitude=45.0)\n\n    fig = plt.figure()\n\n    # Plot WMTS data in a specific region, over a plain lat-lon map.\n    ax = fig.add_subplot(1, 2, 1, projection=plain_crs)\n    ax.set_extent([-6, 3, 48, 58], crs=ccrs.PlateCarree())\n    ax.coastlines(resolution='50m', color='yellow')\n    ax.gridlines(color='lightgrey', linestyle='-')\n    # Add WMTS imaging.\n    ax.add_wmts(base_uri, layer_name=layer_name)\n\n    # Plot WMTS data on a rotated map, over the same nominal region.\n    ax = fig.add_subplot(1, 2, 2, projection=rotated_crs)\n    ax.set_extent([-6, 3, 48, 58], crs=ccrs.PlateCarree())\n    ax.coastlines(resolution='50m', color='yellow')\n    ax.gridlines(color='lightgrey', linestyle='-')\n    # Add WMTS imaging.\n    ax.add_wmts(base_uri, layer_name=layer_name)\n\n    plt.show()\n\n\nif __name__ == '__main__':\n    plot_city_lights()"
      ]
    }
  ],
  "metadata": {
    "kernelspec": {
      "display_name": "Python 3",
      "language": "python",
      "name": "python3"
    },
    "language_info": {
      "codemirror_mode": {
        "name": "ipython",
        "version": 3
      },
      "file_extension": ".py",
      "mimetype": "text/x-python",
      "name": "python",
      "nbconvert_exporter": "python",
      "pygments_lexer": "ipython3",
      "version": "3.10.6"
    }
  },
  "nbformat": 4,
  "nbformat_minor": 0
}