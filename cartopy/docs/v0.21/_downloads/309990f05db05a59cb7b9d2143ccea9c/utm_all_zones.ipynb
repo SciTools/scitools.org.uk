{
  "cells": [
    {
      "cell_type": "code",
      "execution_count": null,
      "metadata": {
        "collapsed": false
      },
      "outputs": [],
      "source": [
        "%matplotlib inline"
      ]
    },
    {
      "cell_type": "markdown",
      "metadata": {},
      "source": [
        "\n# Displaying all 60 zones of the UTM projection\n\nThis example displays all 60 zones of the Universal Transverse Mercator\nprojection next to each other in a figure.\n\nFirst we create a figure with 60 subplots in one row.\nNext we set the projection of each axis in the figure to a specific UTM zone.\nThen we add coastlines, gridlines and the number of the zone.\nFinally we add a supertitle and display the figure.\n"
      ]
    },
    {
      "cell_type": "code",
      "execution_count": null,
      "metadata": {
        "collapsed": false
      },
      "outputs": [],
      "source": [
        "import cartopy.crs as ccrs\nimport matplotlib.pyplot as plt\n\n\ndef main():\n    # Create a list of integers from 1 - 60\n    zones = range(1, 61)\n\n    # Create a figure\n    fig = plt.figure(figsize=(18, 6))\n\n    # Loop through each zone in the list\n    for zone in zones:\n\n        # Add GeoAxes object with specific UTM zone projection to the figure\n        ax = fig.add_subplot(1, len(zones), zone,\n                             projection=ccrs.UTM(zone=zone,\n                                                 southern_hemisphere=True))\n\n        # Add coastlines, gridlines and zone number for the subplot\n        ax.coastlines(resolution='110m')\n        ax.gridlines()\n        ax.set_title(zone)\n\n    # Add a supertitle for the figure\n    fig.suptitle(\"UTM Projection - Zones\")\n\n    # Display the figure\n    plt.show()\n\n\nif __name__ == '__main__':\n    main()"
      ]
    }
  ],
  "metadata": {
    "kernelspec": {
      "display_name": "Python 3",
      "language": "python",
      "name": "python3"
    },
    "language_info": {
      "codemirror_mode": {
        "name": "ipython",
        "version": 3
      },
      "file_extension": ".py",
      "mimetype": "text/x-python",
      "name": "python",
      "nbconvert_exporter": "python",
      "pygments_lexer": "ipython3",
      "version": "3.10.6"
    }
  },
  "nbformat": 4,
  "nbformat_minor": 0
}