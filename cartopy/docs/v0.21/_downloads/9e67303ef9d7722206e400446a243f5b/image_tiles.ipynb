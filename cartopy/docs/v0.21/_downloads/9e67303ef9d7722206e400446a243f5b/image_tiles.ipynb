{
  "cells": [
    {
      "cell_type": "code",
      "execution_count": null,
      "metadata": {
        "collapsed": false
      },
      "outputs": [],
      "source": [
        "%matplotlib inline"
      ]
    },
    {
      "cell_type": "markdown",
      "metadata": {},
      "source": [
        "\n# Web tile imagery\n\nThis example demonstrates how imagery from a tile\nproviding web service can be accessed.\n"
      ]
    },
    {
      "cell_type": "code",
      "execution_count": null,
      "metadata": {
        "collapsed": false
      },
      "outputs": [],
      "source": [
        "import matplotlib.pyplot as plt\nimport cartopy.crs as ccrs\n\nfrom cartopy.io.img_tiles import Stamen\n\n\ndef main():\n    tiler = Stamen('terrain-background')\n    mercator = tiler.crs\n\n    fig = plt.figure()\n    ax = fig.add_subplot(1, 1, 1, projection=mercator)\n    ax.set_extent([-90, -73, 22, 34], crs=ccrs.PlateCarree())\n\n    ax.add_image(tiler, 6)\n\n    ax.coastlines('10m')\n    plt.show()\n\n\nif __name__ == '__main__':\n    main()"
      ]
    }
  ],
  "metadata": {
    "kernelspec": {
      "display_name": "Python 3",
      "language": "python",
      "name": "python3"
    },
    "language_info": {
      "codemirror_mode": {
        "name": "ipython",
        "version": 3
      },
      "file_extension": ".py",
      "mimetype": "text/x-python",
      "name": "python",
      "nbconvert_exporter": "python",
      "pygments_lexer": "ipython3",
      "version": "3.10.6"
    }
  },
  "nbformat": 4,
  "nbformat_minor": 0
}