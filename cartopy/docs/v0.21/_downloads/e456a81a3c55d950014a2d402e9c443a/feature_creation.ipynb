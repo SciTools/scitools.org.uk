{
  "cells": [
    {
      "cell_type": "code",
      "execution_count": null,
      "metadata": {
        "collapsed": false
      },
      "outputs": [],
      "source": [
        "%matplotlib inline"
      ]
    },
    {
      "cell_type": "markdown",
      "metadata": {},
      "source": [
        "\n# Feature Creation\n\nThis example manually instantiates a\n:class:`cartopy.feature.NaturalEarthFeature` to access administrative\nboundaries (states and provinces).\n\nNote that this example is intended to illustrate the ability to construct\nNatural Earth features that cartopy does not necessarily know about\n*a priori*.\nIn this instance however, it would be possible to make use of the\npre-defined :data:`cartopy.feature.STATES` constant.\n"
      ]
    },
    {
      "cell_type": "code",
      "execution_count": null,
      "metadata": {
        "collapsed": false
      },
      "outputs": [],
      "source": [
        "import matplotlib.pyplot as plt\nimport cartopy.crs as ccrs\nimport cartopy.feature as cfeature\nfrom matplotlib.offsetbox import AnchoredText\n\n\ndef main():\n    fig = plt.figure()\n    ax = fig.add_subplot(1, 1, 1, projection=ccrs.PlateCarree())\n    ax.set_extent([80, 170, -45, 30], crs=ccrs.PlateCarree())\n\n    # Put a background image on for nice sea rendering.\n    ax.stock_img()\n\n    # Create a feature for States/Admin 1 regions at 1:50m from Natural Earth\n    states_provinces = cfeature.NaturalEarthFeature(\n        category='cultural',\n        name='admin_1_states_provinces_lines',\n        scale='50m',\n        facecolor='none')\n\n    SOURCE = 'Natural Earth'\n    LICENSE = 'public domain'\n\n    ax.add_feature(cfeature.LAND)\n    ax.add_feature(cfeature.COASTLINE)\n    ax.add_feature(states_provinces, edgecolor='gray')\n\n    # Add a text annotation for the license information to the\n    # the bottom right corner.\n    text = AnchoredText('\\u00A9 {}; license: {}'\n                        ''.format(SOURCE, LICENSE),\n                        loc=4, prop={'size': 12}, frameon=True)\n    ax.add_artist(text)\n\n    plt.show()\n\n\nif __name__ == '__main__':\n    main()"
      ]
    }
  ],
  "metadata": {
    "kernelspec": {
      "display_name": "Python 3",
      "language": "python",
      "name": "python3"
    },
    "language_info": {
      "codemirror_mode": {
        "name": "ipython",
        "version": 3
      },
      "file_extension": ".py",
      "mimetype": "text/x-python",
      "name": "python",
      "nbconvert_exporter": "python",
      "pygments_lexer": "ipython3",
      "version": "3.10.6"
    }
  },
  "nbformat": 4,
  "nbformat_minor": 0
}