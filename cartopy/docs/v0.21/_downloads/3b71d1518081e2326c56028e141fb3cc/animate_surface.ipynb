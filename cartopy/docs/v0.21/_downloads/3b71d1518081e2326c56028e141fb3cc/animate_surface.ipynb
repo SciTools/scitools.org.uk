{
  "cells": [
    {
      "cell_type": "code",
      "execution_count": null,
      "metadata": {
        "collapsed": false
      },
      "outputs": [],
      "source": [
        "%matplotlib inline"
      ]
    },
    {
      "cell_type": "markdown",
      "metadata": {},
      "source": [
        "\n# Animating a gridded surface\n\nThis example demonstrates how to animate\ngridded data using `pcolormesh()`.\n"
      ]
    },
    {
      "cell_type": "code",
      "execution_count": null,
      "metadata": {
        "collapsed": false
      },
      "outputs": [],
      "source": [
        "import matplotlib.pyplot as plt\nfrom matplotlib.animation import FuncAnimation\nimport numpy as np\nimport cartopy.crs as ccrs\n\nfig = plt.figure(figsize=(10, 5))\nax = plt.axes(projection=ccrs.Robinson())\nax.set_global()\nax.coastlines()\n\nx = np.linspace(-80, 80)\nxs, ys = np.meshgrid(2 * x + 180, x)\nzs = xs + ys\nvmin, vmax = np.min(zs), np.max(zs)\nmesh = ax.pcolormesh(xs, ys, np.zeros_like(zs), transform=ccrs.PlateCarree(),\n                     shading='auto', vmin=vmin, vmax=vmax)\n\nn = 10\n\n\ndef update_mesh(t):\n    mesh.set_array(zs.ravel() * t)\n\n\nts = [i / n for i in range(n)]\n# Go back to the start to make it a smooth repeat\nts += ts[::-1]\nani = FuncAnimation(fig, update_mesh, frames=ts,\n                    interval=100)\n\nplt.show()"
      ]
    }
  ],
  "metadata": {
    "kernelspec": {
      "display_name": "Python 3",
      "language": "python",
      "name": "python3"
    },
    "language_info": {
      "codemirror_mode": {
        "name": "ipython",
        "version": 3
      },
      "file_extension": ".py",
      "mimetype": "text/x-python",
      "name": "python",
      "nbconvert_exporter": "python",
      "pygments_lexer": "ipython3",
      "version": "3.10.6"
    }
  },
  "nbformat": 4,
  "nbformat_minor": 0
}