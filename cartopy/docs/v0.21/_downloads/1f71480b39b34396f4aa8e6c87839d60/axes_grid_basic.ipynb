{
  "cells": [
    {
      "cell_type": "code",
      "execution_count": null,
      "metadata": {
        "collapsed": false
      },
      "outputs": [],
      "source": [
        "%matplotlib inline"
      ]
    },
    {
      "cell_type": "markdown",
      "metadata": {},
      "source": [
        "\n# Using Cartopy and AxesGrid toolkit\n\nThis example demonstrates how to use cartopy `GeoAxes` with\n`AxesGrid` from the `mpl_toolkits.axes_grid1`.\nThe script constructs an `axes_class` kwarg with Plate Carree projection\nand passes it to the `AxesGrid` instance. The `AxesGrid` built-in\nlabelling is switched off, and instead a standard procedure\nof creating grid lines is used. Then some fake data is plotted.\n"
      ]
    },
    {
      "cell_type": "code",
      "execution_count": null,
      "metadata": {
        "collapsed": false
      },
      "outputs": [],
      "source": [
        "import cartopy.crs as ccrs\nfrom cartopy.mpl.geoaxes import GeoAxes\nfrom cartopy.mpl.ticker import LongitudeFormatter, LatitudeFormatter\nimport matplotlib.pyplot as plt\nfrom mpl_toolkits.axes_grid1 import AxesGrid\nimport numpy as np\n\n\ndef sample_data_3d(shape):\n    \"\"\"Return `lons`, `lats`, `times` and fake `data`\"\"\"\n    ntimes, nlats, nlons = shape\n    lats = np.linspace(-np.pi / 2, np.pi / 2, nlats)\n    lons = np.linspace(0, 2 * np.pi, nlons)\n    lons, lats = np.meshgrid(lons, lats)\n    wave = 0.75 * (np.sin(2 * lats) ** 8) * np.cos(4 * lons)\n    mean = 0.5 * np.cos(2 * lats) * ((np.sin(2 * lats)) ** 2 + 2)\n\n    lats = np.rad2deg(lats)\n    lons = np.rad2deg(lons)\n    data = wave + mean\n\n    times = np.linspace(-1, 1, ntimes)\n    new_shape = data.shape + (ntimes, )\n    data = np.rollaxis(data.repeat(ntimes).reshape(new_shape), -1)\n    data *= times[:, np.newaxis, np.newaxis]\n\n    return lons, lats, times, data\n\n\ndef main():\n    projection = ccrs.PlateCarree()\n    axes_class = (GeoAxes,\n                  dict(projection=projection))\n\n    lons, lats, times, data = sample_data_3d((6, 73, 145))\n\n    fig = plt.figure()\n    axgr = AxesGrid(fig, 111, axes_class=axes_class,\n                    nrows_ncols=(3, 2),\n                    axes_pad=0.6,\n                    cbar_location='right',\n                    cbar_mode='single',\n                    cbar_pad=0.2,\n                    cbar_size='3%',\n                    label_mode='')  # note the empty label_mode\n\n    for i, ax in enumerate(axgr):\n        ax.coastlines()\n        ax.set_xticks(np.linspace(-180, 180, 5), crs=projection)\n        ax.set_yticks(np.linspace(-90, 90, 5), crs=projection)\n        lon_formatter = LongitudeFormatter(zero_direction_label=True)\n        lat_formatter = LatitudeFormatter()\n        ax.xaxis.set_major_formatter(lon_formatter)\n        ax.yaxis.set_major_formatter(lat_formatter)\n\n        p = ax.contourf(lons, lats, data[i, ...],\n                        transform=projection,\n                        cmap='RdBu')\n\n    axgr.cbar_axes[0].colorbar(p)\n\n    plt.show()\n\n\nif __name__ == '__main__':\n    main()"
      ]
    }
  ],
  "metadata": {
    "kernelspec": {
      "display_name": "Python 3",
      "language": "python",
      "name": "python3"
    },
    "language_info": {
      "codemirror_mode": {
        "name": "ipython",
        "version": 3
      },
      "file_extension": ".py",
      "mimetype": "text/x-python",
      "name": "python",
      "nbconvert_exporter": "python",
      "pygments_lexer": "ipython3",
      "version": "3.10.6"
    }
  },
  "nbformat": 4,
  "nbformat_minor": 0
}