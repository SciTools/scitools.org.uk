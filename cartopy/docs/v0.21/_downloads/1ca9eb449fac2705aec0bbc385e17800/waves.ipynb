{
  "cells": [
    {
      "cell_type": "code",
      "execution_count": null,
      "metadata": {
        "collapsed": false
      },
      "outputs": [],
      "source": [
        "%matplotlib inline"
      ]
    },
    {
      "cell_type": "markdown",
      "metadata": {},
      "source": [
        "\n# Filled contours\n\nAn example of contourf on manufactured data.\n"
      ]
    },
    {
      "cell_type": "code",
      "execution_count": null,
      "metadata": {
        "collapsed": false
      },
      "outputs": [],
      "source": [
        "import matplotlib.pyplot as plt\nimport numpy as np\n\nimport cartopy.crs as ccrs\n\n\ndef sample_data(shape=(73, 145)):\n    \"\"\"Return ``lons``, ``lats`` and ``data`` of some fake data.\"\"\"\n    nlats, nlons = shape\n    lats = np.linspace(-np.pi / 2, np.pi / 2, nlats)\n    lons = np.linspace(0, 2 * np.pi, nlons)\n    lons, lats = np.meshgrid(lons, lats)\n    wave = 0.75 * (np.sin(2 * lats) ** 8) * np.cos(4 * lons)\n    mean = 0.5 * np.cos(2 * lats) * ((np.sin(2 * lats)) ** 2 + 2)\n\n    lats = np.rad2deg(lats)\n    lons = np.rad2deg(lons)\n    data = wave + mean\n\n    return lons, lats, data\n\n\ndef main():\n    fig = plt.figure(figsize=(10, 5))\n    ax = fig.add_subplot(1, 1, 1, projection=ccrs.Mollweide())\n\n    lons, lats, data = sample_data()\n\n    ax.contourf(lons, lats, data,\n                transform=ccrs.PlateCarree(),\n                cmap='nipy_spectral')\n    ax.coastlines()\n    ax.set_global()\n    plt.show()\n\n\nif __name__ == '__main__':\n    main()"
      ]
    }
  ],
  "metadata": {
    "kernelspec": {
      "display_name": "Python 3",
      "language": "python",
      "name": "python3"
    },
    "language_info": {
      "codemirror_mode": {
        "name": "ipython",
        "version": 3
      },
      "file_extension": ".py",
      "mimetype": "text/x-python",
      "name": "python",
      "nbconvert_exporter": "python",
      "pygments_lexer": "ipython3",
      "version": "3.10.6"
    }
  },
  "nbformat": 4,
  "nbformat_minor": 0
}