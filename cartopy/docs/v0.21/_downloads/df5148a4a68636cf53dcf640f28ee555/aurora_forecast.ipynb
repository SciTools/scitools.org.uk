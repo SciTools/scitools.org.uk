{
  "cells": [
    {
      "cell_type": "code",
      "execution_count": null,
      "metadata": {
        "collapsed": false
      },
      "outputs": [],
      "source": [
        "%matplotlib inline"
      ]
    },
    {
      "cell_type": "markdown",
      "metadata": {},
      "source": [
        "\n# Plotting the Aurora Forecast from NOAA on Orthographic Polar Projection\n\nThe National Oceanic and Atmospheric Administration (NOAA) monitors the\nsolar wind conditions using the ACE spacecraft orbiting close to the L1\nLagrangian point of the Sun-Earth system. This data is fed into the\nOVATION-Prime model to forecast the probability of visible aurora at\nvarious locations on Earth. Every five minutes a new forecast is\npublished for the coming 30 minutes. The data is provided as a\n1024 by 512 grid of probabilities in percent of visible aurora. The\ndata spaced equally in degrees from -180 to 180 and -90 to 90.\n"
      ]
    },
    {
      "cell_type": "code",
      "execution_count": null,
      "metadata": {
        "collapsed": false
      },
      "outputs": [],
      "source": [
        "from datetime import datetime\nfrom io import StringIO\nfrom urllib.request import urlopen\n\nimport numpy as np\nimport cartopy.crs as ccrs\nfrom cartopy.feature.nightshade import Nightshade\nimport matplotlib.pyplot as plt\nfrom matplotlib.colors import LinearSegmentedColormap\n\n\ndef aurora_forecast():\n    \"\"\"\n    Get the latest Aurora Forecast from https://www.swpc.noaa.gov.\n\n    Returns\n    -------\n    img : numpy array\n        The pixels of the image in a numpy array.\n    img_proj : cartopy CRS\n        The rectangular coordinate system of the image.\n    img_extent : tuple of floats\n        The extent of the image ``(x0, y0, x1, y1)`` referenced in\n        the ``img_proj`` coordinate system.\n    origin : str\n        The origin of the image to be passed through to matplotlib's imshow.\n    dt : datetime\n        Time of forecast validity.\n\n    \"\"\"\n\n    # GitHub gist to download the example data from\n    url = ('https://gist.githubusercontent.com/belteshassar/'\n           'c7ea9e02a3e3934a9ddc/raw/aurora-nowcast-map.txt')\n    # To plot the current forecast instead, uncomment the following line\n    # url = 'https://services.swpc.noaa.gov/text/aurora-nowcast-map.txt'\n\n    response_text = StringIO(urlopen(url).read().decode('utf-8'))\n    img = np.loadtxt(response_text)\n    # Read forecast date and time\n    response_text.seek(0)\n    for line in response_text:\n        if line.startswith('Product Valid At:', 2):\n            dt = datetime.strptime(line[-17:-1], '%Y-%m-%d %H:%M')\n\n    img_proj = ccrs.PlateCarree()\n    img_extent = (-180, 180, -90, 90)\n    return img, img_proj, img_extent, 'lower', dt\n\n\ndef aurora_cmap():\n    \"\"\"Return a colormap with aurora like colors\"\"\"\n    stops = {'red': [(0.00, 0.1725, 0.1725),\n                     (0.50, 0.1725, 0.1725),\n                     (1.00, 0.8353, 0.8353)],\n\n             'green': [(0.00, 0.9294, 0.9294),\n                       (0.50, 0.9294, 0.9294),\n                       (1.00, 0.8235, 0.8235)],\n\n             'blue': [(0.00, 0.3843, 0.3843),\n                      (0.50, 0.3843, 0.3843),\n                      (1.00, 0.6549, 0.6549)],\n\n             'alpha': [(0.00, 0.0, 0.0),\n                       (0.50, 1.0, 1.0),\n                       (1.00, 1.0, 1.0)]}\n\n    return LinearSegmentedColormap('aurora', stops)\n\n\ndef main():\n    fig = plt.figure(figsize=[10, 5])\n\n    # We choose to plot in an Orthographic projection as it looks natural\n    # and the distortion is relatively small around the poles where\n    # the aurora is most likely.\n\n    # ax1 for Northern Hemisphere\n    ax1 = fig.add_subplot(1, 2, 1, projection=ccrs.Orthographic(0, 90))\n\n    # ax2 for Southern Hemisphere\n    ax2 = fig.add_subplot(1, 2, 2, projection=ccrs.Orthographic(180, -90))\n\n    img, crs, extent, origin, dt = aurora_forecast()\n\n    for ax in [ax1, ax2]:\n        ax.coastlines(zorder=3)\n        ax.stock_img()\n        ax.gridlines()\n        ax.add_feature(Nightshade(dt))\n        ax.imshow(img, vmin=0, vmax=100, transform=crs,\n                  extent=extent, origin=origin, zorder=2,\n                  cmap=aurora_cmap())\n\n    plt.show()\n\n\nif __name__ == '__main__':\n    main()"
      ]
    }
  ],
  "metadata": {
    "kernelspec": {
      "display_name": "Python 3",
      "language": "python",
      "name": "python3"
    },
    "language_info": {
      "codemirror_mode": {
        "name": "ipython",
        "version": 3
      },
      "file_extension": ".py",
      "mimetype": "text/x-python",
      "name": "python",
      "nbconvert_exporter": "python",
      "pygments_lexer": "ipython3",
      "version": "3.10.6"
    }
  },
  "nbformat": 4,
  "nbformat_minor": 0
}