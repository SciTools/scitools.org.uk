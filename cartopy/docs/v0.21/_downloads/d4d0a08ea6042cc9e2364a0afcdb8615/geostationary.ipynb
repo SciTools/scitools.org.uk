{
  "cells": [
    {
      "cell_type": "code",
      "execution_count": null,
      "metadata": {
        "collapsed": false
      },
      "outputs": [],
      "source": [
        "%matplotlib inline"
      ]
    },
    {
      "cell_type": "markdown",
      "metadata": {},
      "source": [
        "\n# Reprojecting images from a Geostationary projection\n\nThis example demonstrates Cartopy's ability to project images into the desired\nprojection on-the-fly. The image itself is retrieved from a URL and is loaded\ndirectly into memory without storing it intermediately into a file. It\nrepresents pre-processed data from the Spinning Enhanced Visible and Infrared\nImager onboard Meteosat Second Generation, which has been put into an image in\nthe data's native Geostationary coordinate system - it is then projected by\ncartopy into a global Miller map.\n"
      ]
    },
    {
      "cell_type": "code",
      "execution_count": null,
      "metadata": {
        "collapsed": false
      },
      "outputs": [],
      "source": [
        "from io import BytesIO\nfrom urllib.request import urlopen\n\nimport cartopy.crs as ccrs\nimport matplotlib.pyplot as plt\n\n\ndef geos_image():\n    \"\"\"\n    Return a specific SEVIRI image by retrieving it from a github gist URL.\n\n    Returns\n    -------\n    img : numpy array\n        The pixels of the image in a numpy array.\n    img_proj : cartopy CRS\n        The rectangular coordinate system of the image.\n    img_extent : tuple of floats\n        The extent of the image ``(x0, y0, x1, y1)`` referenced in\n        the ``img_proj`` coordinate system.\n    origin : str\n        The origin of the image to be passed through to matplotlib's imshow.\n\n    \"\"\"\n    url = ('https://gist.github.com/pelson/5871263/raw/'\n           'EIDA50_201211061300_clip2.png')\n    img_handle = BytesIO(urlopen(url).read())\n    img = plt.imread(img_handle)\n    img_proj = ccrs.Geostationary(satellite_height=35786000)\n    img_extent = [-5500000, 5500000, -5500000, 5500000]\n    return img, img_proj, img_extent, 'upper'\n\n\ndef main():\n    fig = plt.figure()\n    ax = fig.add_subplot(1, 1, 1, projection=ccrs.Miller())\n    ax.coastlines()\n    ax.set_global()\n    print('Retrieving image...')\n    img, crs, extent, origin = geos_image()\n    print('Projecting and plotting image (this may take a while)...')\n    ax.imshow(img, transform=crs, extent=extent, origin=origin, cmap='gray')\n    plt.show()\n\n\nif __name__ == '__main__':\n    main()"
      ]
    }
  ],
  "metadata": {
    "kernelspec": {
      "display_name": "Python 3",
      "language": "python",
      "name": "python3"
    },
    "language_info": {
      "codemirror_mode": {
        "name": "ipython",
        "version": 3
      },
      "file_extension": ".py",
      "mimetype": "text/x-python",
      "name": "python",
      "nbconvert_exporter": "python",
      "pygments_lexer": "ipython3",
      "version": "3.10.6"
    }
  },
  "nbformat": 4,
  "nbformat_minor": 0
}