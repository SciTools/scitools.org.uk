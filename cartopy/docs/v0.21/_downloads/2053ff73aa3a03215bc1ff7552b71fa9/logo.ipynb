{
  "cells": [
    {
      "cell_type": "code",
      "execution_count": null,
      "metadata": {
        "collapsed": false
      },
      "outputs": [],
      "source": [
        "%matplotlib inline"
      ]
    },
    {
      "cell_type": "markdown",
      "metadata": {},
      "source": [
        "\n# Cartopy Logo\n\nThe actual code to produce cartopy's logo.\n"
      ]
    },
    {
      "cell_type": "code",
      "execution_count": null,
      "metadata": {
        "collapsed": false
      },
      "outputs": [],
      "source": [
        "import cartopy.crs as ccrs\nimport matplotlib.pyplot as plt\nimport matplotlib.textpath\nimport matplotlib.patches\nimport matplotlib.transforms\nfrom matplotlib.font_manager import FontProperties\n\n\ndef main():\n    fig = plt.figure(figsize=[12, 6])\n    ax = fig.add_subplot(1, 1, 1, projection=ccrs.Robinson())\n\n    ax.coastlines()\n    ax.gridlines()\n\n    # generate a matplotlib path representing the word \"cartopy\"\n    fp = FontProperties(family='DejaVu Sans', weight='bold')\n    logo_path = matplotlib.textpath.TextPath((-175, -35), 'cartopy',\n                                             size=80, prop=fp)\n    # scale the letters up to sensible longitude and latitude sizes\n    transform = matplotlib.transforms.Affine2D().scale(1, 2).translate(0, 35)\n\n    # add a background image\n    im = ax.stock_img()\n    # Apply the scale transform and then the map coordinate transform\n    plate_carree_transform = (transform +\n                              ccrs.PlateCarree()._as_mpl_transform(ax))\n\n    # add the path as a patch, drawing black outlines around the text\n    patch = matplotlib.patches.PathPatch(logo_path,\n                                         facecolor='none', edgecolor='black',\n                                         transform=plate_carree_transform)\n    im.set_clip_path(patch)\n    ax.add_patch(patch)\n\n    plt.show()\n\n\nif __name__ == '__main__':\n    main()"
      ]
    }
  ],
  "metadata": {
    "kernelspec": {
      "display_name": "Python 3",
      "language": "python",
      "name": "python3"
    },
    "language_info": {
      "codemirror_mode": {
        "name": "ipython",
        "version": 3
      },
      "file_extension": ".py",
      "mimetype": "text/x-python",
      "name": "python",
      "nbconvert_exporter": "python",
      "pygments_lexer": "ipython3",
      "version": "3.10.6"
    }
  },
  "nbformat": 4,
  "nbformat_minor": 0
}