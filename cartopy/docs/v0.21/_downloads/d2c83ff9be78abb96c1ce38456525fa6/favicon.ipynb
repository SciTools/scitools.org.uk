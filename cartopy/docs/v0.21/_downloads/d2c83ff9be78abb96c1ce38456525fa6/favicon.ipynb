{
  "cells": [
    {
      "cell_type": "code",
      "execution_count": null,
      "metadata": {
        "collapsed": false
      },
      "outputs": [],
      "source": [
        "%matplotlib inline"
      ]
    },
    {
      "cell_type": "markdown",
      "metadata": {},
      "source": [
        "\n# Cartopy Favicon\n\nThe actual code to generate cartopy's favicon.\n"
      ]
    },
    {
      "cell_type": "code",
      "execution_count": null,
      "metadata": {
        "collapsed": false
      },
      "outputs": [],
      "source": [
        "import cartopy.crs as ccrs\nimport matplotlib.pyplot as plt\nimport matplotlib.textpath\nimport matplotlib.patches\nfrom matplotlib.font_manager import FontProperties\n\n\ndef main():\n    fig = plt.figure(figsize=[8, 8])\n    ax = fig.add_subplot(1, 1, 1, projection=ccrs.SouthPolarStereo())\n\n    ax.coastlines()\n    ax.gridlines()\n    ax.stock_img()\n\n    # Generate a matplotlib path representing the character \"C\".\n    fp = FontProperties(family='DejaVu Sans', weight='bold')\n    logo_path = matplotlib.textpath.TextPath((-4.5e7, -3.7e7),\n                                             'C', size=103250000, prop=fp)\n\n    # Add the path as a patch, drawing black outlines around the text.\n    patch = matplotlib.patches.PathPatch(logo_path, facecolor='white',\n                                         edgecolor='black', linewidth=10,\n                                         transform=ccrs.SouthPolarStereo())\n    ax.add_patch(patch)\n    plt.show()\n\n\nif __name__ == '__main__':\n    main()"
      ]
    }
  ],
  "metadata": {
    "kernelspec": {
      "display_name": "Python 3",
      "language": "python",
      "name": "python3"
    },
    "language_info": {
      "codemirror_mode": {
        "name": "ipython",
        "version": 3
      },
      "file_extension": ".py",
      "mimetype": "text/x-python",
      "name": "python",
      "nbconvert_exporter": "python",
      "pygments_lexer": "ipython3",
      "version": "3.10.6"
    }
  },
  "nbformat": 4,
  "nbformat_minor": 0
}