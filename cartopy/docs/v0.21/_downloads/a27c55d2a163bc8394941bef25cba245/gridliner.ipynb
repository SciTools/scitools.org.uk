{
  "cells": [
    {
      "cell_type": "code",
      "execution_count": null,
      "metadata": {
        "collapsed": false
      },
      "outputs": [],
      "source": [
        "%matplotlib inline"
      ]
    },
    {
      "cell_type": "markdown",
      "metadata": {},
      "source": [
        "\n# Gridlines and tick labels\n\nThese examples demonstrate how to quickly add longitude\nand latitude gridlines and tick labels on a non-rectangular projection.\n\nAs you can see on the first example,\nlongitude labels may be drawn on left and right sides,\nand latitude labels may be drawn on bottom and top sides.\nThanks to the ``dms`` keyword, minutes are used when appropriate\nto display fractions of degree.\n\nIn the second example, labels are still drawn at the map edges\ndespite its complexity, and some others are also drawn within the map\nboundary.\n\nIn the third example, labels are drawn only on the left and bottom sides.\n"
      ]
    },
    {
      "cell_type": "code",
      "execution_count": null,
      "metadata": {
        "collapsed": false
      },
      "outputs": [],
      "source": [
        "import cartopy.crs as ccrs\nimport cartopy.feature as cfeature\n\nimport matplotlib.pyplot as plt\n\n\ndef main():\n\n    rotated_crs = ccrs.RotatedPole(pole_longitude=120.0, pole_latitude=70.0)\n    ax0 = plt.axes(projection=rotated_crs)\n    ax0.set_extent([-6, 1, 47.5, 51.5], crs=ccrs.PlateCarree())\n    ax0.add_feature(cfeature.LAND.with_scale('110m'))\n    ax0.gridlines(draw_labels=True, dms=True, x_inline=False, y_inline=False)\n\n    plt.figure(figsize=(6.9228, 3))\n    ax1 = plt.axes(projection=ccrs.InterruptedGoodeHomolosine())\n    ax1.coastlines(resolution='110m')\n    ax1.gridlines(draw_labels=True)\n\n    plt.figure(figsize=(7, 3))\n    ax2 = plt.axes(projection=ccrs.PlateCarree())\n    ax2.coastlines(resolution='110m')\n    gl = ax2.gridlines(draw_labels=True)\n    gl.top_labels = False\n    gl.right_labels = False\n    plt.show()\n\n\nif __name__ == '__main__':\n    main()"
      ]
    }
  ],
  "metadata": {
    "kernelspec": {
      "display_name": "Python 3",
      "language": "python",
      "name": "python3"
    },
    "language_info": {
      "codemirror_mode": {
        "name": "ipython",
        "version": 3
      },
      "file_extension": ".py",
      "mimetype": "text/x-python",
      "name": "python",
      "nbconvert_exporter": "python",
      "pygments_lexer": "ipython3",
      "version": "3.10.6"
    }
  },
  "nbformat": 4,
  "nbformat_minor": 0
}