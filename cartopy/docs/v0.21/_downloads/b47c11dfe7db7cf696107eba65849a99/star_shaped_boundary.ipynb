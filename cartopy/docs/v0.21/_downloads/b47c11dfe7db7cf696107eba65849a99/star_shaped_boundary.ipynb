{
  "cells": [
    {
      "cell_type": "code",
      "execution_count": null,
      "metadata": {
        "collapsed": false
      },
      "outputs": [],
      "source": [
        "%matplotlib inline"
      ]
    },
    {
      "cell_type": "markdown",
      "metadata": {},
      "source": [
        "\n# Modifying the boundary/neatline of a map in cartopy\n\nThis example demonstrates how to modify the boundary/neatline\nof an axes. We construct a star with coordinates in a Plate Carree\ncoordinate system, and use the star as the outline of the map.\n\nNotice how changing the projection of the map represents a *projected*\nstar shaped boundary.\n"
      ]
    },
    {
      "cell_type": "code",
      "execution_count": null,
      "metadata": {
        "collapsed": false
      },
      "outputs": [],
      "source": [
        "import matplotlib.path as mpath\nimport matplotlib.pyplot as plt\n\nimport cartopy.crs as ccrs\n\n\ndef main():\n    fig = plt.figure()\n    ax = fig.add_axes([0, 0, 1, 1], projection=ccrs.PlateCarree())\n    ax.coastlines()\n\n    # Construct a star in longitudes and latitudes.\n    star_path = mpath.Path.unit_regular_star(5, 0.5)\n    star_path = mpath.Path(star_path.vertices.copy() * 80,\n                           star_path.codes.copy())\n\n    # Use the star as the boundary.\n    ax.set_boundary(star_path, transform=ccrs.PlateCarree())\n\n    plt.show()\n\n\nif __name__ == '__main__':\n    main()"
      ]
    }
  ],
  "metadata": {
    "kernelspec": {
      "display_name": "Python 3",
      "language": "python",
      "name": "python3"
    },
    "language_info": {
      "codemirror_mode": {
        "name": "ipython",
        "version": 3
      },
      "file_extension": ".py",
      "mimetype": "text/x-python",
      "name": "python",
      "nbconvert_exporter": "python",
      "pygments_lexer": "ipython3",
      "version": "3.10.6"
    }
  },
  "nbformat": 4,
  "nbformat_minor": 0
}