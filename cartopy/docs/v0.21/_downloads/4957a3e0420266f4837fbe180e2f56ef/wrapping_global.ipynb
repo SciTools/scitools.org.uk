{
  "cells": [
    {
      "cell_type": "code",
      "execution_count": null,
      "metadata": {
        "collapsed": false
      },
      "outputs": [],
      "source": [
        "%matplotlib inline"
      ]
    },
    {
      "cell_type": "markdown",
      "metadata": {},
      "source": [
        "\n# Adding a cyclic point to help with wrapping of global data\n\nCartopy represents data in Cartesian projected coordinates, meaning that 350\ndegrees longitude, is not just 10 degrees away from 0 degrees as it is when\nrepresented in spherical coordinates. This means that the plotting methods will\nnot plot data between the last and the first longitude.\n\nTo help with this, the data and longitude/latitude coordinate arrays can be\nexpanded with a cyclic point to close this gap. The routine `add_cyclic`\nrepeats the last data column. It can also add the first longitude plus the\ncyclic keyword (defaults to 360) to the end of the longitude array so that the\ndata values at the ending longitudes will be closed to the wrap point.\n"
      ]
    },
    {
      "cell_type": "code",
      "execution_count": null,
      "metadata": {
        "collapsed": false
      },
      "outputs": [],
      "source": [
        "import numpy as np\nimport matplotlib.pyplot as plt\nimport cartopy.crs as ccrs\nimport cartopy.util as cutil\n\n\ndef main():\n\n    # data with longitude centers from 0 to 360\n    nlon = 24\n    nlat = 12\n    # 7.5, 22.5, ..., 337.5, 352.5\n    dlon = 360//nlon\n    lon = np.linspace(dlon/2., 360.-dlon/2., nlon)\n# -82.5, -67.5, ..., 67.5, 82.5\n    dlat = 180//nlat\n    lat = np.linspace(-90.+dlat/2., 90.-dlat/2., nlat)\n    # 0, 1, ..., 10, 11, 11, 10, ..., 1, 0\n    data = np.concatenate((np.arange(nlon // 2),\n                           np.arange(nlon // 2)[::-1]))\n    data = np.tile(data, nlat).reshape((nlat, nlon))\n\n    fig = plt.figure()\n\n    # plot with central longitude 180\n    ax1 = fig.add_subplot(2, 2, 1,\n                          projection=ccrs.Robinson(central_longitude=180))\n    ax1.set_title(\"1d longitudes, central longitude=180\",\n                  fontsize='small')\n    ax1.set_global()\n    ax1.contourf(lon, lat, data,\n                 transform=ccrs.PlateCarree(), cmap='RdBu')\n    ax1.coastlines()\n\n    # plot with central longitude 0\n    ax2 = fig.add_subplot(2, 2, 2,\n                          projection=ccrs.Robinson(central_longitude=0))\n    ax2.set_title(\"1d longitudes, central longitude=0\",\n                  fontsize='small')\n    ax2.set_global()\n    ax2.contourf(lon, lat, data,\n                 transform=ccrs.PlateCarree(), cmap='RdBu')\n    ax2.coastlines()\n\n    # add cyclic points to data and longitudes\n    # latitudes are unchanged in 1-dimension\n    cdata, clon, clat = cutil.add_cyclic(data, lon, lat)\n    ax3 = fig.add_subplot(2, 2, 3,\n                          projection=ccrs.Robinson(central_longitude=180))\n    ax3.set_title(\"Cyclic 1d longitudes, central longitude=180\",\n                  fontsize='small')\n    ax3.set_global()\n    ax3.contourf(clon, clat, cdata,\n                 transform=ccrs.PlateCarree(), cmap='RdBu')\n    ax3.coastlines()\n\n    # add_cyclic also works with 2-dimensional data\n    # Cyclic points are added to data, longitudes, and latitudes to\n    # ensure the dimensions of the returned arrays are all the same shape.\n    lon2d, lat2d = np.meshgrid(lon, lat)\n    cdata, clon2d, clat2d = cutil.add_cyclic(data, lon2d, lat2d)\n    ax4 = fig.add_subplot(2, 2, 4,\n                          projection=ccrs.Robinson(central_longitude=0))\n    ax4.set_title(\"Cyclic 2d longitudes, central longitude=0\",\n                  fontsize='small')\n    ax4.set_global()\n    ax4.contourf(clon2d, clat2d, cdata,\n                 transform=ccrs.PlateCarree(), cmap='RdBu')\n    ax4.coastlines()\n\n    plt.show()\n\n\nif __name__ == '__main__':\n    main()"
      ]
    }
  ],
  "metadata": {
    "kernelspec": {
      "display_name": "Python 3",
      "language": "python",
      "name": "python3"
    },
    "language_info": {
      "codemirror_mode": {
        "name": "ipython",
        "version": 3
      },
      "file_extension": ".py",
      "mimetype": "text/x-python",
      "name": "python",
      "nbconvert_exporter": "python",
      "pygments_lexer": "ipython3",
      "version": "3.10.6"
    }
  },
  "nbformat": 4,
  "nbformat_minor": 0
}