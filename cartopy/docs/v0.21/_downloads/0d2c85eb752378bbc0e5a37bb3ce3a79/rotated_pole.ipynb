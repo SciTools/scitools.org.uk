{
  "cells": [
    {
      "cell_type": "code",
      "execution_count": null,
      "metadata": {
        "collapsed": false
      },
      "outputs": [],
      "source": [
        "%matplotlib inline"
      ]
    },
    {
      "cell_type": "markdown",
      "metadata": {},
      "source": [
        "\n# Rotated pole boxes\n\nA demonstration of the way a box is warped when it is defined\nin a rotated pole coordinate system.\n\nTry changing the ``box_top`` to ``44``, ``46`` and ``75`` to see the effect\nthat including the pole in the polygon has.\n"
      ]
    },
    {
      "cell_type": "code",
      "execution_count": null,
      "metadata": {
        "collapsed": false
      },
      "outputs": [],
      "source": [
        "import matplotlib.pyplot as plt\n\nimport cartopy.crs as ccrs\n\n\ndef main():\n    rotated_pole = ccrs.RotatedPole(pole_latitude=45, pole_longitude=180)\n\n    box_top = 45\n    x, y = [-44, -44, 45, 45, -44], [-45, box_top, box_top, -45, -45]\n\n    fig = plt.figure()\n\n    ax = fig.add_subplot(2, 1, 1, projection=rotated_pole)\n    ax.stock_img()\n    ax.coastlines()\n    ax.plot(x, y, marker='o', transform=rotated_pole)\n    ax.fill(x, y, color='coral', transform=rotated_pole, alpha=0.4)\n    ax.gridlines()\n\n    ax = fig.add_subplot(2, 1, 2, projection=ccrs.PlateCarree())\n    ax.stock_img()\n    ax.coastlines()\n    ax.plot(x, y, marker='o', transform=rotated_pole)\n    ax.fill(x, y, transform=rotated_pole, color='coral', alpha=0.4)\n    ax.gridlines()\n\n    plt.show()\n\n\nif __name__ == '__main__':\n    main()"
      ]
    }
  ],
  "metadata": {
    "kernelspec": {
      "display_name": "Python 3",
      "language": "python",
      "name": "python3"
    },
    "language_info": {
      "codemirror_mode": {
        "name": "ipython",
        "version": 3
      },
      "file_extension": ".py",
      "mimetype": "text/x-python",
      "name": "python",
      "nbconvert_exporter": "python",
      "pygments_lexer": "ipython3",
      "version": "3.10.6"
    }
  },
  "nbformat": 4,
  "nbformat_minor": 0
}