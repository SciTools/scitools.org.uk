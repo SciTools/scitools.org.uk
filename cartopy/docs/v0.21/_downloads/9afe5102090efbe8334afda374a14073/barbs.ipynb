{
  "cells": [
    {
      "cell_type": "code",
      "execution_count": null,
      "metadata": {
        "collapsed": false
      },
      "outputs": [],
      "source": [
        "%matplotlib inline"
      ]
    },
    {
      "cell_type": "markdown",
      "metadata": {},
      "source": [
        "\n# Barbs\n\nPlotting barbs.\n"
      ]
    },
    {
      "cell_type": "code",
      "execution_count": null,
      "metadata": {
        "collapsed": false
      },
      "outputs": [],
      "source": [
        "import matplotlib.pyplot as plt\n\nimport cartopy.crs as ccrs\n\n\ndef sample_data(shape=(20, 30)):\n    \"\"\"\n    Return ``(x, y, u, v, crs)`` of some vector data\n    computed mathematically. The returned crs will be a rotated\n    pole CRS, meaning that the vectors will be unevenly spaced in\n    regular PlateCarree space.\n\n    \"\"\"\n    import numpy as np\n\n    crs = ccrs.RotatedPole(pole_longitude=177.5, pole_latitude=37.5)\n\n    x = np.linspace(311.9, 391.1, shape[1])\n    y = np.linspace(-23.6, 24.8, shape[0])\n\n    x2d, y2d = np.meshgrid(x, y)\n    u = 10 * (2 * np.cos(2 * np.deg2rad(x2d) + 3 * np.deg2rad(y2d + 30)) ** 2)\n    v = 20 * np.cos(6 * np.deg2rad(x2d))\n\n    return x, y, u, v, crs\n\n\ndef main():\n    fig = plt.figure(figsize=(10, 5))\n    ax = fig.add_subplot(1, 1, 1, projection=ccrs.PlateCarree())\n    ax.set_extent([-90, 80, 10, 85], crs=ccrs.PlateCarree())\n    ax.stock_img()\n    ax.coastlines()\n\n    x, y, u, v, vector_crs = sample_data(shape=(10, 14))\n    ax.barbs(x, y, u, v, length=5,\n             sizes=dict(emptybarb=0.25, spacing=0.2, height=0.5),\n             linewidth=0.95, transform=vector_crs)\n\n    plt.show()\n\n\nif __name__ == '__main__':\n    main()"
      ]
    }
  ],
  "metadata": {
    "kernelspec": {
      "display_name": "Python 3",
      "language": "python",
      "name": "python3"
    },
    "language_info": {
      "codemirror_mode": {
        "name": "ipython",
        "version": 3
      },
      "file_extension": ".py",
      "mimetype": "text/x-python",
      "name": "python",
      "nbconvert_exporter": "python",
      "pygments_lexer": "ipython3",
      "version": "3.10.6"
    }
  },
  "nbformat": 4,
  "nbformat_minor": 0
}