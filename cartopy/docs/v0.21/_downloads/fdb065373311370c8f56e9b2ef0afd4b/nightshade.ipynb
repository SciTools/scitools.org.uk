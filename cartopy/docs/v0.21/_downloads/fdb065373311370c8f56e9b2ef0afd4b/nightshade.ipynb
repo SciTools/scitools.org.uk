{
  "cells": [
    {
      "cell_type": "code",
      "execution_count": null,
      "metadata": {
        "collapsed": false
      },
      "outputs": [],
      "source": [
        "%matplotlib inline"
      ]
    },
    {
      "cell_type": "markdown",
      "metadata": {},
      "source": [
        "\n# Nightshade feature\n\nDraws a polygon where there is no sunlight for the given datetime.\n"
      ]
    },
    {
      "cell_type": "code",
      "execution_count": null,
      "metadata": {
        "collapsed": false
      },
      "outputs": [],
      "source": [
        "import datetime\nimport matplotlib.pyplot as plt\nimport cartopy.crs as ccrs\nfrom cartopy.feature.nightshade import Nightshade\n\n\nfig = plt.figure(figsize=(10, 5))\nax = fig.add_subplot(1, 1, 1, projection=ccrs.PlateCarree())\n\ndate = datetime.datetime(1999, 12, 31, 12)\n\nax.set_title(f'Night time shading for {date}')\nax.stock_img()\nax.add_feature(Nightshade(date, alpha=0.2))\nplt.show()"
      ]
    }
  ],
  "metadata": {
    "kernelspec": {
      "display_name": "Python 3",
      "language": "python",
      "name": "python3"
    },
    "language_info": {
      "codemirror_mode": {
        "name": "ipython",
        "version": 3
      },
      "file_extension": ".py",
      "mimetype": "text/x-python",
      "name": "python",
      "nbconvert_exporter": "python",
      "pygments_lexer": "ipython3",
      "version": "3.10.6"
    }
  },
  "nbformat": 4,
  "nbformat_minor": 0
}