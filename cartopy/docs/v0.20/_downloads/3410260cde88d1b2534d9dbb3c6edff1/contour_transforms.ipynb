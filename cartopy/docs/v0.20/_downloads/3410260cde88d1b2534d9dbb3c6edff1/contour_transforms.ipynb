{
  "cells": [
    {
      "cell_type": "code",
      "execution_count": null,
      "metadata": {
        "collapsed": false
      },
      "outputs": [],
      "source": [
        "%matplotlib inline"
      ]
    },
    {
      "cell_type": "markdown",
      "metadata": {},
      "source": [
        "\n# Contour transform options\n\nThis example demonstrates the difference between transforming\nthe points before/after generating the contours. It uses the\n**transform_first** keyword argument to indicate that Cartopy should\ntransform the points before calling the contouring algorithm,\nwhich can have a significant impact on speed (it is much faster\nto transform points than it is to transform patches). This does\nhave a negative impact on the wrapped coordinates as one can see in the\nsecond axes that the data does not extend to the full global extent.\n"
      ]
    },
    {
      "cell_type": "code",
      "execution_count": null,
      "metadata": {
        "collapsed": false
      },
      "outputs": [],
      "source": [
        "import cartopy.crs as ccrs\nimport matplotlib.pyplot as plt\n\nfrom waves import sample_data\n\n\ndef main():\n\n    # Use the waves example to provide some sample data, but make it\n    # more dependent on y for more interesting contours.\n    x, y, z = sample_data((20, 40))\n    z = z * -1.5 * y\n\n    # Setup a global EckertIII map with faint coastlines.\n    fig = plt.figure()\n    ax1 = fig.add_subplot(2, 1, 1, projection=ccrs.EckertIII())\n    ax1.set_title(\"transform_first=False\")\n    ax2 = fig.add_subplot(2, 1, 2, projection=ccrs.EckertIII())\n    ax2.set_title(\"transform_first=True\")\n\n    for ax, transform_first in zip([ax1, ax2], [False, True]):\n        ax.set_global()\n        ax.coastlines('110m', alpha=0.1)\n\n        # Add colourful filled contours.\n        filled_c = ax.contourf(x, y, z, transform=ccrs.PlateCarree(),\n                               transform_first=transform_first)\n\n        # And black line contours.\n        ax.contour(x, y, z, levels=filled_c.levels,\n                   colors=['black'],\n                   transform=ccrs.PlateCarree(),\n                   transform_first=transform_first)\n\n    plt.show()\n\n\nif __name__ == '__main__':\n    main()"
      ]
    }
  ],
  "metadata": {
    "kernelspec": {
      "display_name": "Python 3",
      "language": "python",
      "name": "python3"
    },
    "language_info": {
      "codemirror_mode": {
        "name": "ipython",
        "version": 3
      },
      "file_extension": ".py",
      "mimetype": "text/x-python",
      "name": "python",
      "nbconvert_exporter": "python",
      "pygments_lexer": "ipython3",
      "version": "3.9.7"
    }
  },
  "nbformat": 4,
  "nbformat_minor": 0
}