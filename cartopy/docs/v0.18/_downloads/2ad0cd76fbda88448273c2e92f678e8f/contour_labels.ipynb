{
  "cells": [
    {
      "cell_type": "code",
      "execution_count": null,
      "metadata": {
        "collapsed": false
      },
      "outputs": [],
      "source": [
        "%matplotlib inline"
      ]
    },
    {
      "cell_type": "markdown",
      "metadata": {},
      "source": [
        "\nContour labels\n--------------\n\nAn example of adding contour labels to matplotlib contours.\n\n\n"
      ]
    },
    {
      "cell_type": "code",
      "execution_count": null,
      "metadata": {
        "collapsed": false
      },
      "outputs": [],
      "source": [
        "import cartopy.crs as ccrs\nimport matplotlib.pyplot as plt\n\nfrom cartopy.examples.waves import sample_data\n\n\ndef main():\n    fig = plt.figure()\n\n    # Setup a global EckertIII map with faint coastlines.\n    ax = fig.add_subplot(1, 1, 1, projection=ccrs.EckertIII())\n    ax.set_global()\n    ax.coastlines('110m', alpha=0.1)\n\n    # Use the waves example to provide some sample data, but make it\n    # more dependent on y for more interesting contours.\n    x, y, z = sample_data((20, 40))\n    z = z * -1.5 * y\n\n    # Add colourful filled contours.\n    filled_c = ax.contourf(x, y, z, transform=ccrs.PlateCarree())\n\n    # And black line contours.\n    line_c = ax.contour(x, y, z, levels=filled_c.levels,\n                        colors=['black'],\n                        transform=ccrs.PlateCarree())\n\n    # Uncomment to make the line contours invisible.\n    # plt.setp(line_c.collections, visible=False)\n\n    # Add a colorbar for the filled contour.\n    fig.colorbar(filled_c, orientation='horizontal')\n\n    # Use the line contours to place contour labels.\n    ax.clabel(\n        line_c,  # Typically best results when labelling line contours.\n        colors=['black'],\n        manual=False,  # Automatic placement vs manual placement.\n        inline=True,  # Cut the line where the label will be placed.\n        fmt=' {:.0f} '.format,  # Labes as integers, with some extra space.\n    )\n\n    plt.show()\n\n\nif __name__ == '__main__':\n    main()"
      ]
    }
  ],
  "metadata": {
    "kernelspec": {
      "display_name": "Python 3",
      "language": "python",
      "name": "python3"
    },
    "language_info": {
      "codemirror_mode": {
        "name": "ipython",
        "version": 3
      },
      "file_extension": ".py",
      "mimetype": "text/x-python",
      "name": "python",
      "nbconvert_exporter": "python",
      "pygments_lexer": "ipython3",
      "version": "3.6.7"
    }
  },
  "nbformat": 4,
  "nbformat_minor": 0
}