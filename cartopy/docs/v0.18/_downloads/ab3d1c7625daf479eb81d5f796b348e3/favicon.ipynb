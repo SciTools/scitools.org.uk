{
  "cells": [
    {
      "cell_type": "code",
      "execution_count": null,
      "metadata": {
        "collapsed": false
      },
      "outputs": [],
      "source": [
        "%matplotlib inline"
      ]
    },
    {
      "cell_type": "markdown",
      "metadata": {},
      "source": [
        "\nCartopy Favicon\n---------------\n\nThe actual code to generate cartopy's favicon.\n\n\n"
      ]
    },
    {
      "cell_type": "code",
      "execution_count": null,
      "metadata": {
        "collapsed": false
      },
      "outputs": [],
      "source": [
        "import cartopy.crs as ccrs\nimport matplotlib.pyplot as plt\nimport matplotlib.textpath\nimport matplotlib.patches\nfrom matplotlib.font_manager import FontProperties\nimport numpy as np\n\n\ndef main():\n    fig = plt.figure(figsize=[8, 8])\n    ax = fig.add_subplot(1, 1, 1, projection=ccrs.SouthPolarStereo())\n\n    ax.coastlines()\n    ax.gridlines()\n    ax.stock_img()\n\n    # Generate a matplotlib path representing the character \"C\".\n    fp = FontProperties(family='Bitstream Vera Sans', weight='bold')\n    logo_path = matplotlib.textpath.TextPath((-4.5e7, -3.7e7),\n                                             'C', size=1, prop=fp)\n\n    # Scale the letter up to an appropriate X and Y scale.\n    logo_path._vertices *= np.array([103250000, 103250000])\n\n    # Add the path as a patch, drawing black outlines around the text.\n    patch = matplotlib.patches.PathPatch(logo_path, facecolor='white',\n                                         edgecolor='black', linewidth=10,\n                                         transform=ccrs.SouthPolarStereo())\n    ax.add_patch(patch)\n    plt.show()\n\n\nif __name__ == '__main__':\n    main()"
      ]
    }
  ],
  "metadata": {
    "kernelspec": {
      "display_name": "Python 3",
      "language": "python",
      "name": "python3"
    },
    "language_info": {
      "codemirror_mode": {
        "name": "ipython",
        "version": 3
      },
      "file_extension": ".py",
      "mimetype": "text/x-python",
      "name": "python",
      "nbconvert_exporter": "python",
      "pygments_lexer": "ipython3",
      "version": "3.6.7"
    }
  },
  "nbformat": 4,
  "nbformat_minor": 0
}