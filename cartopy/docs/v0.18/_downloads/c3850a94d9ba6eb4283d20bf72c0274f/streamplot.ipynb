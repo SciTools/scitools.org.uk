{
  "cells": [
    {
      "cell_type": "code",
      "execution_count": null,
      "metadata": {
        "collapsed": false
      },
      "outputs": [],
      "source": [
        "%matplotlib inline"
      ]
    },
    {
      "cell_type": "markdown",
      "metadata": {},
      "source": [
        "\nStreamplot\n----------\n\nGenerating a vector-based streamplot.\n\n\n"
      ]
    },
    {
      "cell_type": "code",
      "execution_count": null,
      "metadata": {
        "collapsed": false
      },
      "outputs": [],
      "source": [
        "import matplotlib.pyplot as plt\n\nimport cartopy.crs as ccrs\nfrom cartopy.examples.arrows import sample_data\n\n\ndef main():\n    fig = plt.figure(figsize=(10, 5))\n    ax = fig.add_subplot(1, 1, 1, projection=ccrs.PlateCarree())\n    ax.set_extent([-90, 75, 10, 85], crs=ccrs.PlateCarree())\n    ax.coastlines()\n\n    x, y, u, v, vector_crs = sample_data(shape=(80, 100))\n    magnitude = (u ** 2 + v ** 2) ** 0.5\n    ax.streamplot(x, y, u, v, transform=vector_crs,\n                  linewidth=2, density=2, color=magnitude)\n    plt.show()\n\n\nif __name__ == '__main__':\n    main()"
      ]
    }
  ],
  "metadata": {
    "kernelspec": {
      "display_name": "Python 3",
      "language": "python",
      "name": "python3"
    },
    "language_info": {
      "codemirror_mode": {
        "name": "ipython",
        "version": 3
      },
      "file_extension": ".py",
      "mimetype": "text/x-python",
      "name": "python",
      "nbconvert_exporter": "python",
      "pygments_lexer": "ipython3",
      "version": "3.6.7"
    }
  },
  "nbformat": 4,
  "nbformat_minor": 0
}